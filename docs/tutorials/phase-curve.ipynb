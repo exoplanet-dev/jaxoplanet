{
 "cells": [
  {
   "cell_type": "markdown",
   "metadata": {},
   "source": [
    "# Starry phase curve\n",
    "\n",
    "In this tutorial, we will show how to fit the phase curve of a planet whose surface is described by spherical harmonics (a model known as [starry](https://ui.adsabs.harvard.edu/abs/2019AJ....157...64L/abstract)).\n",
    "\n",
    "```{note}\n",
    "This tutorial follows [the one from starry](https://starry.readthedocs.io/en/latest/notebooks/HotJupiterPhaseCurve/). It requires some [extra packages](about.ipynb) that are not included in the `jaxoplanet` dependencies.\n",
    "```\n",
    "\n",
    "## Setup\n",
    "\n",
    "We first setup the number of CPUs to use and enable the use of double-precision numbers with jax."
   ]
  },
  {
   "cell_type": "code",
   "execution_count": null,
   "metadata": {},
   "outputs": [],
   "source": [
    "import jax\n",
    "import numpyro\n",
    "\n",
    "numpyro.set_host_device_count(2)\n",
    "jax.config.update(\"jax_enable_x64\", True)"
   ]
  },
  {
   "cell_type": "markdown",
   "metadata": {},
   "source": [
    "We also define the true parameters of the planet's map, the one we wish to infer"
   ]
  },
  {
   "cell_type": "code",
   "execution_count": null,
   "metadata": {},
   "outputs": [],
   "source": [
    "truth = {\n",
    "    \"amp\": 1e-3,\n",
    "    \"offset\": 0.4,\n",
    "}"
   ]
  },
  {
   "cell_type": "markdown",
   "metadata": {},
   "source": [
    "## Generating the data\n",
    "\n",
    "We will first generate our data. Here, we define a system made of a limb-darkened star transited by a large exoplanet whose surface is modeled by a dipole. Let's start with the planet surface first.\n",
    "\n",
    "### Body surface\n",
    "\n",
    "In *jaxoplanet*, a surface associated to certain spherical harmonics coefficients can be defined with"
   ]
  },
  {
   "cell_type": "code",
   "execution_count": null,
   "metadata": {},
   "outputs": [],
   "source": [
    "import math\n",
    "from jaxoplanet.starry import Surface, Ylm, show_surface\n",
    "\n",
    "# the shperical harmonics model of the surface, here a dipole\n",
    "y = Ylm(\n",
    "    {\n",
    "        (0, 0): 1.0,\n",
    "        (1, 0): 0.5,\n",
    "    },\n",
    ")\n",
    "\n",
    "body_surface = Surface(\n",
    "    y=y,\n",
    "    period=1.0,\n",
    "    phase=-math.pi + truth[\"offset\"],\n",
    "    amplitude=truth[\"amp\"],\n",
    "    normalize=False,\n",
    ")\n",
    "\n",
    "# showing the surface at a given phase\n",
    "show_surface(body_surface, theta=math.pi / 2)"
   ]
  },
  {
   "cell_type": "markdown",
   "metadata": {},
   "source": [
    "```{note}\n",
    "By default, the surface has an inclination of $\\frac{\\pi}{2}$ and no rotation period. Checkout the [Surface API](jaxoplanet.starry.surface.Surface) for more details.\n",
    "```\n",
    "\n",
    "Let's plot the phase curve of this planet as it rotates around its axis. Here, as we are not dealing with a system, we will use the method [surface_light_curve](jaxoplanet.starry.light_curves.surface_light_curve)"
   ]
  },
  {
   "cell_type": "code",
   "execution_count": null,
   "metadata": {},
   "outputs": [],
   "source": [
    "import numpy as np\n",
    "from jaxoplanet.starry import light_curves\n",
    "import matplotlib.pyplot as plt\n",
    "\n",
    "phase = np.linspace(0.0, 2 * np.pi, 100)\n",
    "\n",
    "flux = jax.vmap(\n",
    "    lambda phase: light_curves.surface_light_curve(\n",
    "        body_surface, theta=phase + body_surface.phase\n",
    "    )\n",
    ")(phase)"
   ]
  },
  {
   "cell_type": "markdown",
   "metadata": {},
   "source": [
    "Let's make a nice plot"
   ]
  },
  {
   "cell_type": "code",
   "execution_count": null,
   "metadata": {},
   "outputs": [],
   "source": [
    "n = 5\n",
    "n_phases = np.linspace(phase.min(), phase.max(), n)\n",
    "\n",
    "for i in range(n):\n",
    "    ax = plt.subplot(3, n, i + 1)\n",
    "    show_surface(body_surface, n=4, ax=ax, theta=n_phases[i], white_contour=False)\n",
    "\n",
    "ax = plt.subplot(3, n, (n + 1, n * 3))\n",
    "ax.plot(phase, flux)\n",
    "\n",
    "plt.xlabel(\"phase\")\n",
    "plt.ylabel(\"relative flux\")\n",
    "plt.tight_layout()"
   ]
  },
  {
   "cell_type": "markdown",
   "metadata": {},
   "source": [
    "As we can see, the light curve maximum has an offset from the central phase of the planet's orbit."
   ]
  },
  {
   "cell_type": "markdown",
   "metadata": {},
   "source": [
    "### System and light curve\n",
    "\n",
    "Let's now define the central body surface, which is only limb-darkened, and the full system. Here, we need to use a [SurfaceSystem](jaxoplanet.starry.orbit.SurfaceSystem), where we can pass the surfaces of the bodies along with their orbital parameters."
   ]
  },
  {
   "cell_type": "code",
   "execution_count": null,
   "metadata": {},
   "outputs": [],
   "source": [
    "from jaxoplanet.orbits.keplerian import Central, Body\n",
    "from jaxoplanet.starry.orbit import SurfaceSystem\n",
    "\n",
    "star_surface = Surface(u=(0.4, 0.2))\n",
    "\n",
    "system = SurfaceSystem(Central(mass=1.0, radius=1.0), star_surface)\n",
    "system = system.add_body(Body(radius=0.1, period=1.0), body_surface)"
   ]
  },
  {
   "cell_type": "markdown",
   "metadata": {},
   "source": [
    "Here is our final data"
   ]
  },
  {
   "cell_type": "code",
   "execution_count": null,
   "metadata": {},
   "outputs": [],
   "source": [
    "from jaxoplanet.starry import light_curves\n",
    "\n",
    "time = np.linspace(-0.3, 1.3, 1000)\n",
    "error = 1e-4\n",
    "flux_true = light_curves.light_curve(system)(time).sum(1)\n",
    "flux_data = flux_true + np.random.normal(0, error, len(time))\n",
    "\n",
    "plt.plot(time, flux_data, \".\", c=\"0.6\", ms=2)\n",
    "plt.plot(time, flux_true, c=\"k\")\n",
    "plt.xlabel(\"time\")\n",
    "plt.ylabel(\"relative flux\")\n",
    "_ = plt.tight_layout()"
   ]
  },
  {
   "cell_type": "markdown",
   "metadata": {},
   "source": [
    "```{note}\n",
    "[jaxoplanet.starry.light_curves.light_curve](jaxoplanet.starry.light_curves.light_curve) returns an array containing the light curve of each body, starting with the central body. For this reason, the light curve is a sum of this array over the first axis.\n",
    "```"
   ]
  },
  {
   "cell_type": "markdown",
   "metadata": {},
   "source": [
    "## Inference\n",
    "\n",
    "Let's now infer the parameters of our model.\n",
    "\n",
    "\n",
    "### NumPyro model\n",
    "\n",
    "A good practice when building the numpyro model is to encapsulate the data model into a separate function, like"
   ]
  },
  {
   "cell_type": "code",
   "execution_count": null,
   "metadata": {},
   "outputs": [],
   "source": [
    "def data_model(params, time):\n",
    "    y = Ylm(\n",
    "        {\n",
    "            (0, 0): 1.0,\n",
    "            (1, 0): 0.5,\n",
    "        },\n",
    "    )\n",
    "\n",
    "    # the definition of the phase here ensures that the offset is zero if the surface's\n",
    "    # hot point is directly facing the star\n",
    "    body_surface = Surface(\n",
    "        y=y,\n",
    "        period=1.0,\n",
    "        normalize=False,\n",
    "        amplitude=params[\"amp\"],\n",
    "        phase=2 * np.pi * params[\"t0\"] / params[\"period\"] + np.pi + params[\"offset\"],\n",
    "    )\n",
    "\n",
    "    star_surface = Surface(u=(0.4, 0.2))\n",
    "\n",
    "    system = SurfaceSystem(Central(mass=1.0, radius=1.0), star_surface)\n",
    "    system = system.add_body(Body(radius=0.1, period=1.0), body_surface)\n",
    "\n",
    "    return light_curves.light_curve(system)(time).sum(1)"
   ]
  },
  {
   "cell_type": "markdown",
   "metadata": {},
   "source": [
    "Because we only infer the amplitude and offset of the planet map, the numpyro model is simply"
   ]
  },
  {
   "cell_type": "code",
   "execution_count": null,
   "metadata": {},
   "outputs": [],
   "source": [
    "import numpyro\n",
    "\n",
    "\n",
    "def numpyro_model(time, error, y=None):\n",
    "    log_amp = numpyro.sample(\"log_amp\", numpyro.distributions.Normal(0, np.pi / 4))\n",
    "    offset = numpyro.sample(\"offset\", numpyro.distributions.Normal(-4.0, 2.0))\n",
    "    amp = numpyro.deterministic(\"amp\", 10**log_amp)\n",
    "\n",
    "    params = {\"amp\": amp, \"offset\": offset, \"t0\": 0.0, \"period\": 1.0}\n",
    "    y_pred = data_model(params, time)\n",
    "    numpyro.sample(\"obs\", numpyro.distributions.Normal(y_pred, error), obs=y)"
   ]
  },
  {
   "cell_type": "markdown",
   "metadata": {},
   "source": [
    "### Optimization\n",
    "\n",
    "We can now optimize the paremeters of the model"
   ]
  },
  {
   "cell_type": "code",
   "execution_count": null,
   "metadata": {},
   "outputs": [],
   "source": [
    "import numpyro_ext\n",
    "\n",
    "init_params = {\"amp\": 2e-3, \"offset\": 0.0, \"t0\": 0.0, \"period\": 1.0}\n",
    "\n",
    "run_optim = numpyro_ext.optim.optimize(\n",
    "    numpyro_model,\n",
    "    init_strategy=numpyro.infer.init_to_value(values=init_params),\n",
    ")\n",
    "\n",
    "opt_params = {\n",
    "    **init_params,\n",
    "    **run_optim(jax.random.PRNGKey(6), time, error, y=flux_data),\n",
    "}\n",
    "\n",
    "plt.plot(time, flux_data, \".\", c=\"0.6\", ms=2, label=\"data\")\n",
    "plt.plot(time, data_model(init_params, time), label=\"initial\", alpha=0.5, c=\"C0\")\n",
    "plt.plot(time, data_model(opt_params, time), label=\"MAP\", c=\"C0\")\n",
    "_ = plt.legend()"
   ]
  },
  {
   "cell_type": "markdown",
   "metadata": {},
   "source": [
    "### Sampling\n",
    "\n",
    "And finally proceed to sampling"
   ]
  },
  {
   "cell_type": "code",
   "execution_count": null,
   "metadata": {},
   "outputs": [],
   "source": [
    "sampler = numpyro.infer.MCMC(\n",
    "    numpyro.infer.NUTS(\n",
    "        numpyro_model,\n",
    "        dense_mass=True,\n",
    "        regularize_mass_matrix=False,\n",
    "        init_strategy=numpyro.infer.init_to_value(values=opt_params),\n",
    "    ),\n",
    "    num_warmup=500,\n",
    "    num_samples=2000,\n",
    "    num_chains=2,\n",
    "    progress_bar=True,\n",
    ")\n",
    "\n",
    "sampler.run(jax.random.PRNGKey(1), time, error, flux_data)"
   ]
  },
  {
   "cell_type": "markdown",
   "metadata": {},
   "source": [
    "Here is the sampling statistics summary"
   ]
  },
  {
   "cell_type": "code",
   "execution_count": null,
   "metadata": {},
   "outputs": [],
   "source": [
    "sampler.print_summary()"
   ]
  },
  {
   "cell_type": "markdown",
   "metadata": {},
   "source": [
    "And the corner plot of the inferred parameters"
   ]
  },
  {
   "cell_type": "code",
   "execution_count": null,
   "metadata": {},
   "outputs": [],
   "source": [
    "import corner\n",
    "import arviz as az\n",
    "\n",
    "inf_data = az.from_numpyro(sampler)\n",
    "_ = corner.corner(\n",
    "    inf_data, var_names=[\"amp\", \"offset\"], truths=[truth[\"amp\"], truth[\"offset\"]]\n",
    ")"
   ]
  },
  {
   "cell_type": "markdown",
   "metadata": {},
   "source": [
    "This seems good!"
   ]
  },
  {
   "cell_type": "markdown",
   "metadata": {},
   "source": []
  }
 ],
 "metadata": {
  "kernelspec": {
   "display_name": ".venv",
   "language": "python",
   "name": "python3"
  },
  "language_info": {
   "codemirror_mode": {
    "name": "ipython",
    "version": 3
   },
   "file_extension": ".py",
   "mimetype": "text/x-python",
   "name": "python",
   "nbconvert_exporter": "python",
   "pygments_lexer": "ipython3",
   "version": "3.11.11"
  }
 },
 "nbformat": 4,
 "nbformat_minor": 2
}
