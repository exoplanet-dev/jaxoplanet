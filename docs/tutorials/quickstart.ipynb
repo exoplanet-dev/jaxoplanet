{
 "cells": [
  {
   "cell_type": "markdown",
   "id": "0",
   "metadata": {},
   "source": [
    "(quickstart)=\n",
    "\n",
    "# Quickstart\n",
    "\n",
    "jaxoplanet is a Python package to model the unresolved light received from stellar and planetary systems. It implements most of the features from the [exoplanet](https://docs.exoplanet.codes/en/latest/) and [starry](https://starry.readthedocs.io/en/latest/) packages built on top of [JAX](https://jax.readthedocs.io/en/latest/), allowing for hardware acceleration and interfacing with the tools from the JAX ecosystem."
   ]
  },
  {
   "cell_type": "markdown",
   "id": "1",
   "metadata": {},
   "source": [
    "## Keplerian system\n",
    "\n",
    "In `jaxoplanet` a Keplerian system can be instantiated with a [Central](jaxoplanet.orbits.keplerian.Central) object"
   ]
  },
  {
   "cell_type": "code",
   "execution_count": null,
   "id": "2",
   "metadata": {},
   "outputs": [],
   "source": [
    "from jaxoplanet.orbits.keplerian import System, Central\n",
    "\n",
    "system = System(Central())  # a central object with some default parameters"
   ]
  },
  {
   "cell_type": "markdown",
   "id": "3",
   "metadata": {},
   "source": [
    "and an orbiting [Body](jaxoplanet.orbits.keplerian.Body) added with"
   ]
  },
  {
   "cell_type": "code",
   "execution_count": null,
   "id": "4",
   "metadata": {},
   "outputs": [],
   "source": [
    "system = system.add_body(period=0.1)"
   ]
  },
  {
   "cell_type": "markdown",
   "id": "5",
   "metadata": {},
   "source": [
    "As many arguments in these objects have default values, it's always a good idea to check the parameters of the system."
   ]
  },
  {
   "cell_type": "code",
   "execution_count": null,
   "id": "6",
   "metadata": {},
   "outputs": [],
   "source": [
    "system"
   ]
  },
  {
   "cell_type": "markdown",
   "id": "7",
   "metadata": {},
   "source": [
    "For the reminder of this notebook, let's define a system consisting of an Earth-like planet orbiting a Sun-like star."
   ]
  },
  {
   "cell_type": "code",
   "execution_count": null,
   "id": "8",
   "metadata": {},
   "outputs": [],
   "source": [
    "from jaxoplanet.units import unit_registry as ureg\n",
    "\n",
    "sun = Central(\n",
    "    radius=1.0 * ureg.R_sun,\n",
    "    mass=1.0 * ureg.M_sun,\n",
    ")\n",
    "\n",
    "system = System(sun).add_body(\n",
    "    semimajor=1.0 * ureg.au,\n",
    "    radius=1.0 * ureg.R_earth,\n",
    "    mass=1.0 * ureg.M_earth,\n",
    ")\n",
    "\n",
    "earth = system.bodies[0]\n",
    "\n",
    "# checking the parameters of the system\n",
    "system"
   ]
  },
  {
   "cell_type": "markdown",
   "id": "9",
   "metadata": {},
   "source": [
    "```{note}\n",
    "\n",
    "Notice the use of the [jaxoplanet.units](jaxoplanet.units) module to handle physical units. Check *TODO* for an introduction to the unit system used by `jaxoplanet`.\n",
    "\n",
    "```"
   ]
  },
  {
   "cell_type": "markdown",
   "id": "10",
   "metadata": {},
   "source": [
    "## Radial velocity"
   ]
  },
  {
   "cell_type": "markdown",
   "id": "11",
   "metadata": {},
   "source": [
    "Then, one can access the relative position and velocity of the planet relative to the sun. "
   ]
  },
  {
   "cell_type": "code",
   "execution_count": null,
   "id": "12",
   "metadata": {},
   "outputs": [],
   "source": [
    "import jax.numpy as jnp\n",
    "from matplotlib import pyplot as plt\n",
    "\n",
    "# Get the position of the planet and velocity of the star as a function of time\n",
    "t = jnp.linspace(0, 730, 5000)\n",
    "x, y, z = earth.relative_position(t)\n",
    "vx, vy, vz = earth.central_velocity(t)"
   ]
  },
  {
   "cell_type": "markdown",
   "id": "13",
   "metadata": {},
   "source": [
    "```{note}\n",
    "Axes and orbital parameters conventions follow that of the [*exoplanet* package](https://docs.exoplanet.codes/en/latest/tutorials/data-and-models/).\n",
    "```\n",
    "\n",
    "And plot the results"
   ]
  },
  {
   "cell_type": "code",
   "execution_count": null,
   "id": "14",
   "metadata": {},
   "outputs": [],
   "source": [
    "fig, axes = plt.subplots(2, 1, sharex=True)\n",
    "ax = axes[0]\n",
    "ax.plot(t, x.magnitude, label=\"x\")\n",
    "ax.plot(t, y.magnitude, label=\"y\")\n",
    "ax.plot(t, z.magnitude, label=\"z\")\n",
    "ax.set_ylabel(\"earth position [$R_*$]\")\n",
    "ax.legend(fontsize=10, loc=1)\n",
    "\n",
    "ax = axes[1]\n",
    "ax.plot(t, vx.magnitude, label=\"$v_x$\")\n",
    "ax.plot(t, vy.magnitude, label=\"$v_y$\")\n",
    "ax.plot(t, vz.magnitude, label=\"$v_z$\")\n",
    "ax.set_xlim(t.min(), t.max())\n",
    "ax.set_xlabel(\"time [days]\")\n",
    "ax.set_ylabel(\"central velocity [$R_*$/day]\")\n",
    "_ = ax.legend(fontsize=10, loc=1)"
   ]
  },
  {
   "cell_type": "markdown",
   "id": "15",
   "metadata": {},
   "source": [
    "## Occultation light curve of limb darkened star\n",
    "\n",
    "The [light_curves.limb_dark.light_curve](jaxoplanet.light_curves.limb_dark.light_curve) function can be used to compute the light curve of a limb darkened star with a polynomial profile, allowing to express linear, quadratic and more complex limb darkening laws.\n",
    "\n",
    "Using the limb darkening coefficients of the Sun from [Hestroffer and Magnan](https://www.physics.hmc.edu/faculty/esin/a101/limbdarkening.pdf) we compute the flux"
   ]
  },
  {
   "cell_type": "code",
   "execution_count": null,
   "id": "16",
   "metadata": {},
   "outputs": [],
   "source": [
    "from jaxoplanet.light_curves.limb_dark import light_curve\n",
    "\n",
    "u = (0.30505, 1.13123, -0.78604, 0.40560, 0.02297, -0.07880)\n",
    "time = jnp.linspace(-0.5, 0.5, 1000)\n",
    "\n",
    "flux = 1.0 + light_curve(system, u)(time)"
   ]
  },
  {
   "cell_type": "markdown",
   "id": "17",
   "metadata": {},
   "source": [
    "and plot the resulting light curve"
   ]
  },
  {
   "cell_type": "code",
   "execution_count": null,
   "id": "18",
   "metadata": {},
   "outputs": [],
   "source": [
    "plt.plot(time, flux)\n",
    "plt.xlabel(\"time (days)\")\n",
    "_ = plt.ylabel(\"relative flux\")"
   ]
  },
  {
   "cell_type": "markdown",
   "id": "19",
   "metadata": {},
   "source": [
    "## Non-uniform stars\n",
    "\n",
    "`jaxoplanet` aims to match the features of [starry](https://github.com/rodluger/starry), a framework to compute the light curves of systems made of non-uniform spherical bodies.\n",
    "\n",
    "```{warning}\n",
    "While being stable, computing *starry* light curves of non-uniform surfaces is still an experimental part of `jaxoplanet`.\n",
    "```\n",
    "\n",
    "Let's define a [Surface](jaxoplanet.starry.surface.Surface) in the [spherical harmonics](https://en.wikipedia.org/wiki/Spherical_harmonics) basis (using the [Ylm](jaxoplanet.starry.ylm.Ylm) object) and visualize it\n"
   ]
  },
  {
   "cell_type": "code",
   "execution_count": null,
   "id": "20",
   "metadata": {},
   "outputs": [],
   "source": [
    "import numpy as np\n",
    "from jaxoplanet.starry.ylm import Ylm\n",
    "from jaxoplanet.starry.surface import Surface\n",
    "from jaxoplanet.starry.visualization import show_surface\n",
    "\n",
    "np.random.seed(42)\n",
    "y = Ylm.from_dense([1.00, *np.random.normal(0.0, 2e-2, size=15)])\n",
    "\n",
    "u = (0.1, 0.1)\n",
    "surface = Surface(inc=1.0, obl=0.2, period=27.0, u=u, y=y)\n",
    "\n",
    "plt.figure(figsize=(3, 3))\n",
    "show_surface(surface)"
   ]
  },
  {
   "cell_type": "markdown",
   "id": "21",
   "metadata": {},
   "source": [
    "### Rotational light curves\n",
    "\n",
    "We can attach this surface to a body (like the Sun-like object we previously defined) and define a [SurfaceSystem](jaxoplanet.starry.orbit.SurfaceSystem)"
   ]
  },
  {
   "cell_type": "code",
   "execution_count": null,
   "id": "22",
   "metadata": {},
   "outputs": [],
   "source": [
    "from jaxoplanet.starry.orbit import SurfaceSystem\n",
    "\n",
    "system = SurfaceSystem(sun, surface)"
   ]
  },
  {
   "cell_type": "markdown",
   "id": "23",
   "metadata": {},
   "source": [
    "from which we compute the rotational light curve of the star"
   ]
  },
  {
   "cell_type": "code",
   "execution_count": null,
   "id": "24",
   "metadata": {},
   "outputs": [],
   "source": [
    "from jaxoplanet.starry.light_curves import light_curve\n",
    "\n",
    "plt.figure(figsize=(6.5, 2.5))\n",
    "time = jnp.linspace(-20, 20, 1000)\n",
    "flux = light_curve(system)(time).T[0]\n",
    "\n",
    "plt.plot(time, flux)\n",
    "plt.xlabel(\"time (days)\")\n",
    "plt.ylabel(\"relative flux\")\n",
    "plt.tight_layout()"
   ]
  },
  {
   "cell_type": "markdown",
   "id": "25",
   "metadata": {},
   "source": [
    "### Occultation light curve"
   ]
  },
  {
   "cell_type": "markdown",
   "id": "26",
   "metadata": {},
   "source": [
    "We can add a body to the system, having its own surface"
   ]
  },
  {
   "cell_type": "code",
   "execution_count": null,
   "id": "27",
   "metadata": {},
   "outputs": [],
   "source": [
    "system = SurfaceSystem(sun, surface)\n",
    "\n",
    "secondary_surface = Surface(\n",
    "    y=Ylm.from_dense([1.00, *np.random.normal(0.0, 1.0, size=15)])\n",
    ")\n",
    "\n",
    "system = system.add_body(\n",
    "    semimajor=40.0 * ureg.au,\n",
    "    radius=20.0 * ureg.R_earth,\n",
    "    mass=1.0 * ureg.M_earth,\n",
    "    impact_param=0.2,\n",
    "    surface=secondary_surface,\n",
    ")"
   ]
  },
  {
   "cell_type": "markdown",
   "id": "28",
   "metadata": {},
   "source": [
    "and compute the occultation light curve of the system"
   ]
  },
  {
   "cell_type": "code",
   "execution_count": null,
   "id": "29",
   "metadata": {},
   "outputs": [],
   "source": [
    "t_start, t_end = -20, 20\n",
    "n = 1000\n",
    "time = jnp.linspace(t_start, t_end, n)\n",
    "flux = light_curve(system)(time).T[0]"
   ]
  },
  {
   "cell_type": "markdown",
   "id": "30",
   "metadata": {},
   "source": [
    "Let's plot it and show the system over time"
   ]
  },
  {
   "cell_type": "code",
   "execution_count": null,
   "id": "31",
   "metadata": {},
   "outputs": [],
   "source": [
    "n_plots = 5\n",
    "times = jnp.linspace(t_start, t_end, n_plots)\n",
    "radius_ratio = (system.bodies[0].radius / system.central.radius).magnitude\n",
    "gs = plt.GridSpec(2, n_plots)\n",
    "\n",
    "plt.figure(figsize=(6.5, 4.0))\n",
    "\n",
    "for i in range(n_plots):\n",
    "    ax = plt.subplot(gs[0, i])\n",
    "    phase = surface.rotational_phase(times[i])\n",
    "    x, y = system.bodies[0].position(times[i])[0:2]\n",
    "    show_surface(surface, ax=ax, theta=phase)\n",
    "    circle = plt.Circle(\n",
    "        (x.magnitude, y.magnitude), radius_ratio, color=\"k\", fill=True, zorder=10\n",
    "    )\n",
    "    ax.add_artist(circle)\n",
    "    ax.set_xlim(-1.5, 1.5)\n",
    "\n",
    "plt.subplot(gs[1, :])\n",
    "plt.plot(time, flux)\n",
    "\n",
    "plt.xlabel(\"time since transit (days)\")\n",
    "plt.ylabel(\"relative flux\")\n",
    "plt.tight_layout()"
   ]
  }
 ],
 "metadata": {
  "kernelspec": {
   "display_name": "Python 3 (ipykernel)",
   "language": "python",
   "name": "python3"
  },
  "language_info": {
   "codemirror_mode": {
    "name": "ipython",
    "version": 3
   },
   "file_extension": ".py",
   "mimetype": "text/x-python",
   "name": "python",
   "nbconvert_exporter": "python",
   "pygments_lexer": "ipython3",
   "version": "3.11.10"
  }
 },
 "nbformat": 4,
 "nbformat_minor": 5
}
