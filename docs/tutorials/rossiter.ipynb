{
 "cells": [
  {
   "cell_type": "markdown",
   "metadata": {},
   "source": [
    "# Rossiter McLaughlin effect\n",
    "\n",
    "In this notebook we demonstrate how to model the Rossiter-McLaughin effect (and radial velocity measurements in general) using *jaxoplanet*.\n",
    "\n",
    "## Surface radial velocity\n",
    "Let's first define a rotating stellar surface"
   ]
  },
  {
   "cell_type": "code",
   "execution_count": null,
   "metadata": {},
   "outputs": [],
   "source": [
    "from jaxoplanet.starry import Surface, show_surface\n",
    "\n",
    "surface = Surface(period=0.5, obl=0.2, inc=1.1, u=(0.5, 0.2))"
   ]
  },
  {
   "cell_type": "markdown",
   "metadata": {},
   "source": [
    "To visualize the radial velocity of this surface"
   ]
  },
  {
   "cell_type": "code",
   "execution_count": null,
   "metadata": {},
   "outputs": [],
   "source": [
    "import matplotlib.pyplot as plt\n",
    "\n",
    "im = show_surface(surface, rv=True, return_im=True)\n",
    "_ = plt.colorbar(im)"
   ]
  },
  {
   "cell_type": "markdown",
   "metadata": {},
   "source": [
    "We can then plot the rv signal received from this star as it is transited by an exoplanet"
   ]
  },
  {
   "cell_type": "code",
   "execution_count": null,
   "metadata": {},
   "outputs": [],
   "source": [
    "import jax\n",
    "import numpy as np\n",
    "from jaxoplanet.starry.doppler import surface_radial_velocity\n",
    "\n",
    "x = np.linspace(-1.2, 1.2, 1000)\n",
    "rv = jax.vmap(lambda x: surface_radial_velocity(surface, x=x, z=10, r=0.1))(x)\n",
    "\n",
    "plt.plot(x, rv)\n",
    "plt.xlabel(\"planet x coordinate\")\n",
    "plt.ylabel(\"radial velocity ($R_\\odot$ / day)\")\n",
    "_ = plt.tight_layout()"
   ]
  },
  {
   "cell_type": "markdown",
   "metadata": {},
   "source": [
    "## System radial velocity\n",
    "\n",
    "Let's define a system and compute the integrated radial velocity of its bodies\n",
    "\n",
    "```{important}\n",
    "As jaxoplanet only features two-body keplerian orbits, the full dynamic of a multi-planetary system cannot be accounted for. Hence, this application is limited to systems made of two bodies.\n",
    "```"
   ]
  },
  {
   "cell_type": "code",
   "execution_count": null,
   "metadata": {},
   "outputs": [],
   "source": [
    "from jaxoplanet.starry.orbit import Body, Central, SurfaceSystem\n",
    "\n",
    "system = SurfaceSystem(Central(), surface).add_body(\n",
    "    Body(period=20.0, radius=0.1, mass=0.1)\n",
    ")"
   ]
  },
  {
   "cell_type": "markdown",
   "metadata": {},
   "source": [
    "Then, we use the [radial_velocity](jaxoplanet.starry.doppler.radial_velocity) function to compute the radial velocity of the system"
   ]
  },
  {
   "cell_type": "code",
   "execution_count": null,
   "metadata": {},
   "outputs": [],
   "source": [
    "import numpy as np\n",
    "from jaxoplanet.starry.doppler import radial_velocity\n",
    "\n",
    "time = np.linspace(-0.3, 0.3, 500)\n",
    "rv = radial_velocity(system)(time).sum(1)\n",
    "\n",
    "plt.plot(time, rv)\n",
    "plt.xlabel(\"time (days)\")\n",
    "plt.ylabel(\"radial velocity ($R_\\odot$ / day)\")\n",
    "_ = plt.tight_layout()"
   ]
  },
  {
   "cell_type": "markdown",
   "metadata": {},
   "source": [
    "## Accounting for surface features\n",
    "\n",
    "We can also account for surfaces with features like spots. Let's create such a surface and compute it's radial velocity."
   ]
  },
  {
   "cell_type": "code",
   "execution_count": null,
   "metadata": {},
   "outputs": [],
   "source": [
    "from jaxoplanet.starry.ylm import ylm_spot\n",
    "\n",
    "y = ylm_spot(8)(0.8, 0.5, 0.0, 0.0)\n",
    "surface = Surface(y=y, period=0.5, u=(0.2, 0.4), obl=0.2)\n",
    "\n",
    "plt.subplot(121)\n",
    "show_surface(surface, theta=0.9, cmap=\"Greys_r\")\n",
    "plt.subplot(122)\n",
    "show_surface(surface, theta=0.9, rv=True)\n",
    "_ = plt.tight_layout()"
   ]
  },
  {
   "cell_type": "markdown",
   "metadata": {},
   "source": [
    "As before, the radial velocity can be computed with"
   ]
  },
  {
   "cell_type": "code",
   "execution_count": null,
   "metadata": {},
   "outputs": [],
   "source": [
    "phase = np.linspace(-np.pi, np.pi, 1000)\n",
    "rv = jax.vmap(lambda phase: surface_radial_velocity(surface, theta=phase))(phase)\n",
    "\n",
    "plt.plot(phase, rv)\n",
    "plt.xlabel(\"phase (rad)\")\n",
    "plt.ylabel(\"radial velocity ($R_\\odot$ / day)\")\n",
    "_ = plt.tight_layout()"
   ]
  },
  {
   "cell_type": "code",
   "execution_count": null,
   "metadata": {},
   "outputs": [],
   "source": []
  }
 ],
 "metadata": {
  "kernelspec": {
   "display_name": "jaxoplanet_310",
   "language": "python",
   "name": "python3"
  },
  "language_info": {
   "codemirror_mode": {
    "name": "ipython",
    "version": 3
   },
   "file_extension": ".py",
   "mimetype": "text/x-python",
   "name": "python",
   "nbconvert_exporter": "python",
   "pygments_lexer": "ipython3",
   "version": "3.10.16"
  }
 },
 "nbformat": 4,
 "nbformat_minor": 2
}
