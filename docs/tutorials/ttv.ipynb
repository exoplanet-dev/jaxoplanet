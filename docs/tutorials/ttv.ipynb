{
 "cells": [
  {
   "attachments": {},
   "cell_type": "markdown",
   "metadata": {},
   "source": [
    "(ttv)=\n",
    "\n",
    "# Fitting for Transit Timing Variations (TTVs)\n",
    "\n",
    "Similarly to [exoplanet](https://docs.exoplanet.codes/en/latest/), `jaxoplanet` contains the ability to model transit timing variations for planetary systems. This tutorial follows from [Fitting Transit Times](https://gallery.exoplanet.codes/tutorials/ttv/) from the [exoplanet](https://docs.exoplanet.codes/en/latest/) Python package.\n",
    "\n",
    "```{note}\n",
    "This tutorial requires some [extra packages](about.ipynb) that are not included in the `jaxoplanet` dependencies.\n",
    "```\n",
    "\n",
    "## Setup\n",
    "\n",
    "We first setup the number of CPUs to use and enable the use of double-precision numbers with jax."
   ]
  },
  {
   "cell_type": "code",
   "execution_count": null,
   "metadata": {},
   "outputs": [],
   "source": [
    "import jax\n",
    "import numpyro\n",
    "\n",
    "numpyro.set_host_device_count(2)\n",
    "jax.config.update(\"jax_enable_x64\", True)"
   ]
  },
  {
   "attachments": {},
   "cell_type": "markdown",
   "metadata": {},
   "source": [
    "## Generating the data\n",
    "\n",
    "Let's generate the light curve of a two-planet system featuring transit time variations.\n",
    "\n",
    "[TTVOrbit](jaxoplanet.orbits.ttv.TTVOrbit) is an orbit object parameterized by the observables of a transiting system with transit time variations. On top of the [TransitOrbit](jaxoplanet.orbits.transit.TransitOrbit) parameters, this orbit can be instantiating with a list of `transit_times`, omitting the need for a period and time of transit.\n",
    "\n",
    "This is what our data model will look like"
   ]
  },
  {
   "cell_type": "code",
   "execution_count": null,
   "metadata": {},
   "outputs": [],
   "source": [
    "from jaxoplanet.orbits.ttv import TTVOrbit\n",
    "from jaxoplanet.light_curves import limb_dark_light_curve\n",
    "\n",
    "\n",
    "def orbit_and_lightcurve_model(time, params):\n",
    "    transit_times = (params[f\"transit_times_{i}\"] for i in range(len(params[\"b\"])))\n",
    "    orbit = TTVOrbit(\n",
    "        transit_times=transit_times,\n",
    "        duration=params[\"duration\"],\n",
    "        impact_param=params[\"b\"],\n",
    "        radius_ratio=params[\"r\"],\n",
    "    )\n",
    "    return orbit, limb_dark_light_curve(orbit, params[\"u\"])(time)"
   ]
  },
  {
   "cell_type": "markdown",
   "metadata": {},
   "source": [
    "Using the [compute_expected_transit_times](jaxoplanet.orbits.ttv.compute_expected_transit_times) function, we can compute the expected transits of the system given the orbital parameters of the two planets."
   ]
  },
  {
   "cell_type": "code",
   "execution_count": null,
   "metadata": {},
   "outputs": [],
   "source": [
    "import numpy as np\n",
    "import jax.numpy as jnp\n",
    "from jaxoplanet.orbits.ttv import compute_expected_transit_times\n",
    "\n",
    "random = np.random.default_rng(11)\n",
    "\n",
    "# true parmaters of the system\n",
    "time = jnp.arange(0, 30, 0.05)  # day\n",
    "true_periods = jnp.array([3, 6])  # day\n",
    "true_t0s = jnp.array([2, 3])  # day\n",
    "\n",
    "# computing expected transit times\n",
    "expected_transit_times = compute_expected_transit_times(\n",
    "    time.min(), time.max(), true_periods, true_t0s\n",
    ")\n",
    "n_planets = len(expected_transit_times)\n",
    "planet_indices = jnp.arange(n_planets)\n",
    "offset_factors = (3 / 24) - (planet_indices % 2) * 0.1\n",
    "true_ttvs = []\n",
    "\n",
    "for i, tt in enumerate(expected_transit_times):\n",
    "    ttv = offset_factors[i] * jnp.sin(2 * jnp.pi * tt / 17)\n",
    "    true_ttvs.append(ttv)\n",
    "\n",
    "true_transit_times = tuple(\n",
    "    tt + ttv for tt, ttv in zip(expected_transit_times, true_ttvs)\n",
    ")\n",
    "\n",
    "truth = {\n",
    "    \"transit_times_0\": true_transit_times[0],\n",
    "    \"transit_times_1\": true_transit_times[1],\n",
    "    \"b\": jnp.array([0.5, 0.5]),\n",
    "    \"duration\": jnp.array([0.5, 0.3]),\n",
    "    \"u\": jnp.array([0.1, 0.06]),\n",
    "    \"r\": jnp.array([0.1, 0.07]),\n",
    "}"
   ]
  },
  {
   "cell_type": "markdown",
   "metadata": {},
   "source": [
    "We can now generate and plot our data"
   ]
  },
  {
   "cell_type": "code",
   "execution_count": null,
   "metadata": {},
   "outputs": [],
   "source": [
    "import matplotlib.pyplot as plt\n",
    "\n",
    "yerr = 5e-4\n",
    "y_true_all = orbit_and_lightcurve_model(time, truth)[1]\n",
    "y_true = jnp.sum(y_true_all, axis=-1)\n",
    "y = jnp.array(y_true + yerr * random.normal(size=len(time)))\n",
    "\n",
    "# Let's see what the light curve looks like\n",
    "plt.plot(time, y, \".\", c=\"0.7\", label=\"data\")\n",
    "plt.plot(time, y_true, label=\"truth\", c=\"k\")\n",
    "plt.xlabel(\"time (days)\")\n",
    "plt.ylabel(\"relative flux\")\n",
    "plt.xlim(time.min(), time.max())\n",
    "_ = plt.legend(loc=4)"
   ]
  },
  {
   "attachments": {},
   "cell_type": "markdown",
   "metadata": {},
   "source": [
    "## Model with NumPyro\n",
    "\n",
    "We will now instantiate a NumPyro model in order to infer the properties of the system from the generated data. \n",
    "\n",
    "Everything here is quite standard, but in the instance of a multi-planet system, we can supply a `jax.numpy` array of values for our priors,\n",
    "and we can apply the method [to_event](https://num.pyro.ai/en/latest/distributions.html#numpyro.distributions.distribution.Distribution.to_event) in order to tell Numpyro the dimensions are independent,\n",
    "that is, the period of planet 1 does not depend on the period of planet 2. "
   ]
  },
  {
   "cell_type": "code",
   "execution_count": null,
   "metadata": {},
   "outputs": [],
   "source": [
    "import numpyro_ext\n",
    "import jax.numpy as jnp\n",
    "\n",
    "\n",
    "def model(time, yerr, y=None):\n",
    "\n",
    "    # For loop to account for each planet's transit times, with a Uniform prior\n",
    "    # centered on the true transit times and lower/upper limits of 1 day.\n",
    "    transit_times = []\n",
    "    for i in range(2):\n",
    "        transit_times.append(\n",
    "            numpyro.sample(\n",
    "                f\"transit_times_{i}\",\n",
    "                numpyro.distributions.Uniform(\n",
    "                    low=true_transit_times[i] - 1.0, high=true_transit_times[i] + 1.0\n",
    "                ),\n",
    "            )\n",
    "        )\n",
    "\n",
    "    # The duration\n",
    "    logD = numpyro.sample(\n",
    "        \"logD\",\n",
    "        numpyro.distributions.Normal(jnp.log(truth[\"duration\"]), 0.1).to_event(1),\n",
    "    )\n",
    "    duration = numpyro.deterministic(\"duration\", jnp.exp(logD))\n",
    "\n",
    "    # The radius ratio\n",
    "    logR = numpyro.sample(\n",
    "        \"logR\", numpyro.distributions.Normal(jnp.log(truth[\"r\"]), 0.1).to_event(1)\n",
    "    )\n",
    "    r = numpyro.deterministic(\"r\", jnp.exp(logR))\n",
    "\n",
    "    # The impact parameter, note, for multi-planet systems, we need to pass in a\n",
    "    # jax numpy array of values\n",
    "    _b = numpyro.sample(\n",
    "        \"_b\",\n",
    "        numpyro.distributions.Uniform(\n",
    "            low=jnp.array([0.0, 0.0]), high=jnp.array([1.0, 1.0])\n",
    "        ).to_event(1),\n",
    "    )\n",
    "    b = numpyro.deterministic(\"b\", _b * (1 + r))\n",
    "\n",
    "    # The limb darkening coefficients\n",
    "    u = numpyro.sample(\"u\", numpyro_ext.distributions.QuadLDParams())\n",
    "\n",
    "    params = {\n",
    "        \"b\": b,\n",
    "        \"u\": u,\n",
    "        \"r\": r,\n",
    "        \"duration\": duration,\n",
    "        \"transit_times_0\": transit_times[0],\n",
    "        \"transit_times_1\": transit_times[1],\n",
    "    }\n",
    "\n",
    "    orbit, y_pred_all = orbit_and_lightcurve_model(time, params)\n",
    "    y_pred = jnp.sum(y_pred_all, axis=-1)\n",
    "\n",
    "    # Here are some useful under the radar variables that we can access from TTVOrbit.\n",
    "    # These are the linear ephemeris parameters and the TTVs.\n",
    "    for i in range(2):\n",
    "        numpyro.deterministic(f\"t0_{i}\", orbit.linear_t0[i])\n",
    "        numpyro.deterministic(f\"period_{i}\", orbit.linear_period[i])\n",
    "        numpyro.deterministic(f\"ttvs_{i}\", orbit.ttvs[i])\n",
    "\n",
    "    # The likelihood function assuming Gaussian uncertainty\n",
    "    numpyro.sample(\"obs\", numpyro.distributions.Normal(y_pred, yerr), obs=y)"
   ]
  },
  {
   "attachments": {},
   "cell_type": "markdown",
   "metadata": {},
   "source": [
    "As in the the [Fitting Transit Times](./transit.ipynb) tutorial, it might be a good idea to check the priors of your model.\n",
    "\n",
    "## Optimization\n",
    "\n",
    "We will now optimize our model in preparation of sampling the posterior likelihood of the data"
   ]
  },
  {
   "cell_type": "code",
   "execution_count": null,
   "metadata": {},
   "outputs": [],
   "source": [
    "init_params = {\n",
    "    **truth,\n",
    "    \"logD\": jnp.log(truth[\"duration\"]),\n",
    "    \"logR\": jnp.log(truth[\"r\"]),\n",
    "    \"_b\": truth[\"b\"] / (1 + truth[\"r\"]),\n",
    "}\n",
    "\n",
    "run_optim = numpyro_ext.optim.optimize(\n",
    "    model,\n",
    "    init_strategy=numpyro.infer.init_to_value(values=init_params),\n",
    ")\n",
    "\n",
    "opt_params = run_optim(jax.random.PRNGKey(5), time, yerr, y=y)"
   ]
  },
  {
   "attachments": {},
   "cell_type": "markdown",
   "metadata": {},
   "source": [
    "Let's plot the MAP model against the simulated data."
   ]
  },
  {
   "cell_type": "code",
   "execution_count": null,
   "metadata": {},
   "outputs": [],
   "source": [
    "_, map_light_curve = orbit_and_lightcurve_model(time, opt_params)\n",
    "\n",
    "plt.plot(time, y, \".\", c=\"0.7\", label=\"data\")\n",
    "plt.plot(time, y_true, \"-k\", label=\"truth\")\n",
    "plt.plot(time, map_light_curve.sum(1), \"--\", label=\"MAP model\")\n",
    "plt.xlabel(\"time [days]\")\n",
    "plt.ylabel(\"relative flux\")\n",
    "plt.legend(fontsize=10, loc=4)\n",
    "plt.xlim(time.min(), time.max())\n",
    "plt.tight_layout()"
   ]
  },
  {
   "attachments": {},
   "cell_type": "markdown",
   "metadata": {},
   "source": [
    "Looks good!\n",
    "\n",
    "We are now going to have a quick look at the individual phase plots to demonstrate the issue with phasing planets exhibiting TTVs.\n"
   ]
  },
  {
   "cell_type": "code",
   "execution_count": null,
   "metadata": {},
   "outputs": [],
   "source": [
    "fig, ax = plt.subplots(2, 1, figsize=(7.5, 4))\n",
    "\n",
    "map_t0s = [opt_params[f\"t0_{i}\"] for i in range(2)]\n",
    "map_periods = [opt_params[f\"period_{i}\"] for i in range(2)]\n",
    "\n",
    "for i, (period, t0) in enumerate(zip(map_periods, map_t0s)):\n",
    "    folded_time = (time - t0 + 0.5 * period) % period - 0.5 * period\n",
    "    ax[i].errorbar(\n",
    "        folded_time,\n",
    "        y - map_light_curve[:, 1 - i],\n",
    "        yerr=yerr,\n",
    "        fmt=\".k\",\n",
    "        label=\"data\",\n",
    "        zorder=-1000,\n",
    "    )\n",
    "    ax[i].set_xlim(-0.5 * period, 0.5 * period)\n",
    "    ax[i].set_xlabel(\"time since transit [days]\")\n",
    "    ax[i].set_ylabel(\"relative flux\")\n",
    "    ax[i].set_title(\"Planet 1\")\n",
    "    ax[i].legend()"
   ]
  },
  {
   "cell_type": "markdown",
   "metadata": {},
   "source": [
    "\n",
    "That obviously doesn't look great, but this is why we need to account for the TTVs, which [TTVOrbit](jaxoplanet.orbits.ttv.TTVOrbit) corrects under the hood.\n"
   ]
  },
  {
   "attachments": {},
   "cell_type": "markdown",
   "metadata": {},
   "source": [
    "## Sampling\n",
    "Let's sample from the posterior."
   ]
  },
  {
   "cell_type": "code",
   "execution_count": null,
   "metadata": {},
   "outputs": [],
   "source": [
    "sampler = numpyro.infer.MCMC(\n",
    "    numpyro.infer.NUTS(\n",
    "        model,\n",
    "        dense_mass=False,\n",
    "        regularize_mass_matrix=False,\n",
    "        init_strategy=numpyro.infer.init_to_value(values=opt_params),\n",
    "    ),\n",
    "    num_warmup=500,\n",
    "    num_samples=1000,\n",
    "    num_chains=1,\n",
    "    progress_bar=True,\n",
    ")\n",
    "\n",
    "sampler.run(jax.random.PRNGKey(1), time, yerr, y=y)"
   ]
  },
  {
   "cell_type": "markdown",
   "metadata": {},
   "source": [
    "Let's print the summary of our sampling, focusing on $\\hat{R}$ and the number of divergences encountered."
   ]
  },
  {
   "cell_type": "code",
   "execution_count": null,
   "metadata": {},
   "outputs": [],
   "source": [
    "sampler.print_summary()"
   ]
  },
  {
   "attachments": {},
   "cell_type": "markdown",
   "metadata": {},
   "source": [
    "We can typically plot traces using the `plot_trace` function in the `Arviz` package"
   ]
  },
  {
   "cell_type": "code",
   "execution_count": null,
   "metadata": {},
   "outputs": [],
   "source": [
    "import arviz as az\n",
    "\n",
    "inf_data = az.from_numpyro(sampler)\n",
    "\n",
    "az.plot_trace(\n",
    "    inf_data,\n",
    "    var_names=[\"transit_times_0\", \"transit_times_1\", \"duration\", \"r\", \"b\", \"u\"],\n",
    "    backend_kwargs={\"constrained_layout\": True},\n",
    ")\n",
    "plt.show()"
   ]
  },
  {
   "cell_type": "markdown",
   "metadata": {},
   "source": [
    "We have few divergences but not bad overall! Of course, for a real application these divergences must be investigated and the HMC should run on multiple and way longer chains."
   ]
  },
  {
   "cell_type": "markdown",
   "metadata": {},
   "source": [
    "# TTV Plots\n",
    "\n",
    "lets make some TTV plots to show we correctly identified the trend!"
   ]
  },
  {
   "cell_type": "code",
   "execution_count": null,
   "metadata": {},
   "outputs": [],
   "source": [
    "samples = sampler.get_samples()\n",
    "\n",
    "fig, (ax1, ax2) = plt.subplots(2, 1, figsize=(10, 5), sharex=True)\n",
    "\n",
    "q = np.percentile(samples[\"ttvs_0\"], [16, 50, 84], axis=0)\n",
    "\n",
    "ax1.fill_between(\n",
    "    np.mean(samples[\"transit_times_0\"], axis=0),\n",
    "    q[0],\n",
    "    q[2],\n",
    "    color=\"C0\",\n",
    "    alpha=0.4,\n",
    "    edgecolor=\"none\",\n",
    ")\n",
    "ref = np.polyval(\n",
    "    np.polyfit(true_transit_times[0], true_ttvs[0], 1), true_transit_times[0]\n",
    ")\n",
    "ax1.plot(true_transit_times[0], true_ttvs[0] - ref, \".k\")\n",
    "ax1.axhline(0, color=\"k\", lw=0.5)\n",
    "# ax1.set_ylim(np.max(np.abs(ax1.get_ylim())) * np.array([-1, 1]))\n",
    "\n",
    "ax1.set_ylabel(\"$O-C$ [days]\")\n",
    "\n",
    "q = np.percentile(samples[\"ttvs_1\"], [16, 50, 84], axis=0)\n",
    "ax2.fill_between(\n",
    "    np.mean(samples[\"transit_times_1\"], axis=0),\n",
    "    q[0],\n",
    "    q[2],\n",
    "    color=\"C1\",\n",
    "    alpha=0.4,\n",
    "    edgecolor=\"none\",\n",
    ")\n",
    "ref = np.polyval(\n",
    "    np.polyfit(true_transit_times[1], true_ttvs[1], 1), true_transit_times[1]\n",
    ")\n",
    "ax2.plot(true_transit_times[1], true_ttvs[1] - ref, \".k\", label=\"truth\")\n",
    "ax2.axhline(0, color=\"k\", lw=0.5)\n",
    "# ax2.set_ylim(np.max(np.abs(ax2.get_ylim())) * np.array([-1, 1]))\n",
    "\n",
    "ax2.legend(fontsize=10)\n",
    "ax2.set_ylabel(\"$O-C$ [days]\")\n",
    "ax2.set_xlabel(\"transit time [days]\")\n",
    "_ = ax1.set_title(\"posterior inference\")"
   ]
  },
  {
   "cell_type": "markdown",
   "metadata": {},
   "source": [
    "We can see the posterior is correctly predicting the true ttvs!"
   ]
  }
 ],
 "metadata": {
  "kernelspec": {
   "display_name": ".venv",
   "language": "python",
   "name": "python3"
  },
  "language_info": {
   "codemirror_mode": {
    "name": "ipython",
    "version": 3
   },
   "file_extension": ".py",
   "mimetype": "text/x-python",
   "name": "python",
   "nbconvert_exporter": "python",
   "pygments_lexer": "ipython3",
   "version": "3.11.11"
  }
 },
 "nbformat": 4,
 "nbformat_minor": 4
}
