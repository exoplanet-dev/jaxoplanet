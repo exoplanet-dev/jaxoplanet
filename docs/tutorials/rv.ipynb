{
 "cells": [
  {
   "cell_type": "markdown",
   "metadata": {},
   "source": [
    "(rv)=\n",
    "\n",
    "# Radial Velocities\n",
    "\n",
    "\n",
    "In this tutorial we will learn how to use `jaxoplanet` to compute the radial velocities of a star hosting a single exoplanet, and how to fit this dataset using `numpyro`.\n",
    "\n",
    "```{note}\n",
    "This tutorial requires some [extra packages](about.ipynb) that are not included in the `jaxoplanet` dependencies.\n",
    "```\n",
    "\n",
    "## Setup\n",
    "\n",
    "We first setup the number of CPUs to use and enable the use of double-precision numbers with jax."
   ]
  },
  {
   "cell_type": "code",
   "execution_count": null,
   "metadata": {},
   "outputs": [],
   "source": [
    "import jax\n",
    "import numpyro\n",
    "\n",
    "numpyro.set_host_device_count(2)\n",
    "jax.config.update(\"jax_enable_x64\", True)"
   ]
  },
  {
   "cell_type": "markdown",
   "metadata": {},
   "source": [
    "## Model and dataset\n",
    "\n",
    "Let's first generate our dataset, consisting in the radial velocities of a star orbited by a unique exoplanet. We start by defining the system (see for more details)"
   ]
  },
  {
   "cell_type": "code",
   "execution_count": null,
   "metadata": {},
   "outputs": [],
   "source": [
    "import numpy as np\n",
    "import matplotlib.pyplot as plt\n",
    "from jaxoplanet.orbits import keplerian\n",
    "\n",
    "truth = dict(mass=0.02, period=3.0)\n",
    "star = keplerian.Central(mass=1.0, radius=1.0)\n",
    "system = keplerian.System(star).add_body(**truth)"
   ]
  },
  {
   "cell_type": "markdown",
   "metadata": {},
   "source": [
    "As we left many parameters as default, let's check the parameters of the system"
   ]
  },
  {
   "cell_type": "code",
   "execution_count": null,
   "metadata": {},
   "outputs": [],
   "source": [
    "system"
   ]
  },
  {
   "cell_type": "markdown",
   "metadata": {},
   "source": [
    "We can now compute the radial velocities of the star and add some noise to simulate our dataset"
   ]
  },
  {
   "cell_type": "code",
   "execution_count": null,
   "metadata": {},
   "outputs": [],
   "source": [
    "np.random.seed(10)\n",
    "over_time = np.linspace(0, 10, 1000)\n",
    "over_rvs = system.radial_velocity(over_time)[0]\n",
    "time = np.sort(np.random.uniform(0, 10, 40))\n",
    "rv_obs = system.radial_velocity(time)[0]\n",
    "rv_err = 0.05\n",
    "rv_obs += rv_err * np.random.normal(size=len(time))\n",
    "\n",
    "\n",
    "def plot_data():\n",
    "    plt.errorbar(time, rv_obs, yerr=rv_err, fmt=\"+k\")\n",
    "    plt.xlabel(\"time (days)\")\n",
    "    plt.ylabel(r\"radial velocity ($R_\\odot/d$)\")\n",
    "\n",
    "\n",
    "plt.plot(over_time, over_rvs)\n",
    "plot_data()"
   ]
  },
  {
   "cell_type": "markdown",
   "metadata": {},
   "source": [
    "## Inference\n",
    "\n",
    "We will infer the value and associated uncertainty of the system orbital parameters using `numpyro`. In order to do that we first define a callable `model` function"
   ]
  },
  {
   "cell_type": "code",
   "execution_count": null,
   "metadata": {},
   "outputs": [],
   "source": [
    "from numpyro import distributions as dist, infer\n",
    "\n",
    "\n",
    "def rv_model(time, params):\n",
    "    system = keplerian.System(star).add_body(\n",
    "        mass=params[\"mass\"], period=params[\"period\"]\n",
    "    )\n",
    "    return system.radial_velocity(time)[0]\n",
    "\n",
    "\n",
    "def model(time, y=None):\n",
    "    mass = numpyro.sample(\"mass\", dist.Uniform(0.01, 0.1))\n",
    "    period = numpyro.sample(\"period\", dist.Uniform(1.0, 10.0))\n",
    "    error = numpyro.sample(\"error\", dist.Uniform(0.01, 0.08))\n",
    "    rv = rv_model(time, {\"mass\": mass, \"period\": period})\n",
    "\n",
    "    # the likelihood function\n",
    "    numpyro.sample(\"y\", dist.Normal(rv, error), obs=y)"
   ]
  },
  {
   "cell_type": "markdown",
   "metadata": {},
   "source": [
    "Once the model defined, we will sample the posterior likelihood of the model parameters given the observed radial velocities. As we will need to provide some initial values for these parameters, it is a good idea to check that these values provide a good starting point for the model."
   ]
  },
  {
   "cell_type": "code",
   "execution_count": null,
   "metadata": {},
   "outputs": [],
   "source": [
    "init_values = {\"mass\": 0.022, \"period\": 3.01, \"error\": rv_err}\n",
    "init_model = rv_model(over_time, init_values)\n",
    "\n",
    "plt.plot(over_time, init_model, \"C0\")\n",
    "plot_data()"
   ]
  },
  {
   "cell_type": "markdown",
   "metadata": {},
   "source": [
    "Starting from this initial guess, we use `numpyro`'s MCMC No-U-Turn Sampler (NUTS) to sample the posterior likelihood of the parameters."
   ]
  },
  {
   "cell_type": "code",
   "execution_count": null,
   "metadata": {},
   "outputs": [],
   "source": [
    "sampler = infer.MCMC(\n",
    "    infer.NUTS(model, init_strategy=infer.init_to_value(values=init_values)),\n",
    "    num_warmup=2000,\n",
    "    num_samples=10000,\n",
    "    progress_bar=True,\n",
    "    num_chains=2,\n",
    ")\n",
    "\n",
    "sampler.run(jax.random.PRNGKey(6), time, y=rv_obs)"
   ]
  },
  {
   "cell_type": "markdown",
   "metadata": {},
   "source": [
    "We can plot the inferred model with"
   ]
  },
  {
   "cell_type": "code",
   "execution_count": null,
   "metadata": {},
   "outputs": [],
   "source": [
    "samples = sampler.get_samples()\n",
    "posterior_rvs = infer.Predictive(model, samples)(jax.random.PRNGKey(0), over_time)[\"y\"]\n",
    "\n",
    "plot_data()\n",
    "plt.plot(over_time, posterior_rvs.mean(0), \"C0\")\n",
    "_ = plt.fill_between(\n",
    "    over_time,\n",
    "    *np.percentile(posterior_rvs, [16, 84], axis=0),\n",
    "    alpha=0.3,\n",
    "    color=\"C0\",\n",
    ")"
   ]
  },
  {
   "cell_type": "markdown",
   "metadata": {},
   "source": [
    "and check the inferred model parameters in a corner plot"
   ]
  },
  {
   "cell_type": "code",
   "execution_count": null,
   "metadata": {},
   "outputs": [],
   "source": [
    "import corner\n",
    "\n",
    "_ = corner.corner(\n",
    "    samples,\n",
    "    var_names=[\"mass\", \"period\"],\n",
    "    truths=[truth[\"mass\"], truth[\"period\"]],\n",
    "    show_titles=True,\n",
    "    quantiles=[0.16, 0.5, 0.84],\n",
    "    title_fmt=\".4f\",\n",
    ")"
   ]
  }
 ],
 "metadata": {
  "kernelspec": {
   "display_name": ".venv",
   "language": "python",
   "name": "python3"
  },
  "language_info": {
   "codemirror_mode": {
    "name": "ipython",
    "version": 3
   },
   "file_extension": ".py",
   "mimetype": "text/x-python",
   "name": "python",
   "nbconvert_exporter": "python",
   "pygments_lexer": "ipython3",
   "version": "3.12.8"
  }
 },
 "nbformat": 4,
 "nbformat_minor": 4
}
