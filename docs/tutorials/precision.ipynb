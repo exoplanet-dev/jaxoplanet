{
 "cells": [
  {
   "cell_type": "markdown",
   "metadata": {},
   "source": [
    "# Numerical precision\n",
    "\n",
    "In general, we recommend setting JAX to double precision when working with jaxoplanet light curve functions"
   ]
  },
  {
   "cell_type": "code",
   "execution_count": null,
   "metadata": {
    "tags": []
   },
   "outputs": [],
   "source": [
    "import jax\n",
    "\n",
    "jax.config.update(\"jax_enable_x64\", True)"
   ]
  },
  {
   "cell_type": "markdown",
   "metadata": {},
   "source": [
    "Then, either to deal with very-precise datasets or for the sake of performance, users may want to adapt the precision of the light curve model. This can be done by changing the `order` parameter in most `light_curve` functions, which controls the number of points used for numerical integration.\n",
    "\n",
    "## Limb darkened light curve\n",
    "\n",
    "To demonstrate that, let's first compute a light curve at low order"
   ]
  },
  {
   "cell_type": "code",
   "execution_count": null,
   "metadata": {},
   "outputs": [],
   "source": [
    "from jaxoplanet.core.limb_dark import light_curve as light_curve\n",
    "\n",
    "r = 1.0\n",
    "b = 1.0\n",
    "u = (1.0, 1.0)\n",
    "\n",
    "calc = light_curve(u, b, r, order=10)"
   ]
  },
  {
   "cell_type": "markdown",
   "metadata": {},
   "source": [
    "The simplest way to estimate the precision of this value is to compare it with one computed at large order"
   ]
  },
  {
   "cell_type": "code",
   "execution_count": null,
   "metadata": {},
   "outputs": [],
   "source": [
    "reference = light_curve(u, b, r, order=1500)\n",
    "\n",
    "print(f\"precision: {abs(calc-reference):.2e}\")"
   ]
  },
  {
   "cell_type": "markdown",
   "metadata": {},
   "source": [
    "We can extend this approach further by computing the absolute error depending on the order of the numerical integration and the radius of the occultor"
   ]
  },
  {
   "cell_type": "code",
   "execution_count": null,
   "metadata": {},
   "outputs": [],
   "source": [
    "import jax.numpy as jnp\n",
    "\n",
    "\n",
    "def estimate_precision(r=0.1):\n",
    "    # values of b for which we expect the maximum error\n",
    "    b = r if r > 1 else 1.0\n",
    "    reference = light_curve(u, b, r, order=1500)\n",
    "\n",
    "    def fun(order):\n",
    "        calc = light_curve(u, b, r, order=order)\n",
    "        result = jnp.abs(reference - calc)\n",
    "        return max(result, 1e-16)\n",
    "\n",
    "    return fun\n",
    "\n",
    "\n",
    "orders = jnp.logspace(jnp.log10(5), jnp.log10(1000), 6).astype(int).tolist()\n",
    "\n",
    "radii = [0.01, 0.1, 1.0]\n",
    "with jax.disable_jit():\n",
    "    precision = {r: [estimate_precision(r)(order) for order in orders] for r in radii}"
   ]
  },
  {
   "cell_type": "markdown",
   "metadata": {},
   "source": [
    "And plot the results to identify an appropriate order for a given application"
   ]
  },
  {
   "cell_type": "code",
   "execution_count": null,
   "metadata": {},
   "outputs": [],
   "source": [
    "import matplotlib.pyplot as plt\n",
    "\n",
    "for i, r in enumerate(radii):\n",
    "    plt.plot(orders, precision[r], \".-\", label=f\"r={r}\")\n",
    "\n",
    "plt.yscale(\"log\")\n",
    "plt.xscale(\"log\")\n",
    "plt.xlabel(\"order of numerical integration\")\n",
    "plt.ylabel(\"absolute error\")\n",
    "plt.title(\"Limb darkening light curve precision\")\n",
    "_ = plt.legend()"
   ]
  },
  {
   "cell_type": "markdown",
   "metadata": {},
   "source": [
    "```{note}\n",
    "When setting the `order` parameter, keep in mind that the lower the order of the numerical integration, the faster the evaluation of the light curve function.\n",
    "```"
   ]
  },
  {
   "cell_type": "markdown",
   "metadata": {},
   "source": [
    "## Starry light curve\n",
    "\n",
    "The same thing can be done for starry light curves, but using the `surface_light_curve function`"
   ]
  },
  {
   "cell_type": "code",
   "execution_count": null,
   "metadata": {},
   "outputs": [],
   "source": [
    "from jaxoplanet.starry import Surface, Ylm\n",
    "from jaxoplanet.starry.light_curves import surface_light_curve\n",
    "\n",
    "# degree of the spherical harmonics map\n",
    "l_max = 3\n",
    "\n",
    "# a dummy surface described by unitary coefficients (not physical)\n",
    "y = Ylm.from_dense(jnp.ones((l_max + 1) ** 2))\n",
    "surface = Surface(y=y, u=(1.0, 1.0))\n",
    "\n",
    "r = 1.0\n",
    "b = 1.0\n",
    "\n",
    "reference = surface_light_curve(surface=surface, y=b, r=r, z=1.0, order=1500)\n",
    "calc = surface_light_curve(surface=surface, y=b, r=r, z=1.0, order=10)\n",
    "\n",
    "print(f\"precision: {abs(calc-reference):.2e}\")"
   ]
  },
  {
   "cell_type": "markdown",
   "metadata": {},
   "source": [
    "And as before"
   ]
  },
  {
   "cell_type": "code",
   "execution_count": null,
   "metadata": {},
   "outputs": [],
   "source": [
    "def estimate_precision(r=0.1):\n",
    "    # values of b for which we expect the maximum error\n",
    "    b = r if r > 1 else 1.0\n",
    "    reference = surface_light_curve(surface=surface, y=b, r=r, z=1.0, order=1500)\n",
    "\n",
    "    def fun(order):\n",
    "        calc = surface_light_curve(surface=surface, y=b, r=r, z=1.0, order=order)\n",
    "        result = jnp.abs(reference - calc)\n",
    "        return max(result, 1e-16)\n",
    "\n",
    "    return fun\n",
    "\n",
    "\n",
    "with jax.disable_jit():\n",
    "    precision = {r: [estimate_precision(r)(order) for order in orders] for r in radii}\n",
    "\n",
    "for i, r in enumerate(radii):\n",
    "    plt.plot(orders, precision[r], \".-\", label=f\"r={r}\")\n",
    "\n",
    "plt.yscale(\"log\")\n",
    "plt.xscale(\"log\")\n",
    "plt.xlabel(\"order of numerical integration\")\n",
    "plt.ylabel(\"absolute error\")\n",
    "plt.title(f\"Starry light curve precision ($l_{{max}}={l_max}$)\")\n",
    "_ = plt.legend()"
   ]
  },
  {
   "cell_type": "code",
   "execution_count": null,
   "metadata": {},
   "outputs": [],
   "source": []
  }
 ],
 "metadata": {
  "kernelspec": {
   "display_name": "jaxoplanet",
   "language": "python",
   "name": "python3"
  },
  "language_info": {
   "codemirror_mode": {
    "name": "ipython",
    "version": 3
   },
   "file_extension": ".py",
   "mimetype": "text/x-python",
   "name": "python",
   "nbconvert_exporter": "python",
   "pygments_lexer": "ipython3",
   "version": "3.11.10"
  }
 },
 "nbformat": 4,
 "nbformat_minor": 2
}
