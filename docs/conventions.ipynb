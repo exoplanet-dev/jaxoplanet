{
 "cells": [
  {
   "cell_type": "markdown",
   "metadata": {
    "vscode": {
     "languageId": "plaintext"
    }
   },
   "source": [
    "# Conventions\n",
    "\n",
    "## Units\n",
    "\n",
    "*jaxoplanet* does not support units handling. Instead, all inputs to *jaxoplanet* functions must be converted to the units specified in their respective documentation. Throughout the codebase, the following units are consistently used:\n",
    "\n",
    "- **Lengths** are in **solar radii** ($R_\\odot$).\n",
    "- **Masses** are in **solar masses** ($M_\\odot$).\n",
    "- **Times** are in **days**.\n",
    "- **Angles** are in **radians**.\n",
    "\n",
    "\n",
    "## Spherical harmonics\n",
    "\n",
    "\n",
    "In jaxoplanet, spherical harmonics are real and normalized. They are represented by a 1D vector of coefficient $y$ ordered by $l$ and $m$ such that\n",
    "\n",
    "$$\n",
    "y = [Y_{0,0}, Y_{1,-1}, Y_{1,0}, Y_{1,1}, Y_{2,-2}, Y_{2,-1}, Y_{2,0}, Y_{2,1}, Y_{2,2}, ... ]\n",
    "$$\n",
    "\n",
    "For reference, here's what the first several spherical harmonic degrees look like:"
   ]
  },
  {
   "cell_type": "code",
   "execution_count": null,
   "metadata": {
    "tags": [
     "remove-input"
    ]
   },
   "outputs": [],
   "source": [
    "import numpy as np\n",
    "from jaxoplanet.starry import show_surface\n",
    "import matplotlib.pyplot as plt\n",
    "\n",
    "\n",
    "l_max = 3\n",
    "\n",
    "fig, ax = plt.subplots(l_max + 1, 2 * l_max + 1, figsize=(7, 4))\n",
    "\n",
    "fig.subplots_adjust(hspace=0)\n",
    "for axis in ax.flatten():\n",
    "    axis.set_xticks([])\n",
    "    axis.set_yticks([])\n",
    "    axis.spines[\"top\"].set_visible(False)\n",
    "    axis.spines[\"right\"].set_visible(False)\n",
    "    axis.spines[\"bottom\"].set_visible(False)\n",
    "    axis.spines[\"left\"].set_visible(False)\n",
    "\n",
    "I = 0\n",
    "# Loop over the orders and degrees\n",
    "for i, l in enumerate(range(l_max + 1)):\n",
    "    for j, m in enumerate(range(-l, l + 1)):\n",
    "        # Offset the index for centered plotting\n",
    "        j += l_max - l\n",
    "\n",
    "        # Plot the spherical harmonic\n",
    "        y = np.zeros((l_max + 1) ** 2)\n",
    "        y[I] = 1\n",
    "        show_surface(y, ax=ax[i, j], n=None)\n",
    "        ax[i, j].set_xlim(-1.1, 1.1)\n",
    "        ax[i, j].set_ylim(-1.1, 1.1)\n",
    "        ax[i, j].set_title(f\"$Y_{{{l},{m}}}$\")\n",
    "        I += 1\n",
    "\n",
    "\n",
    "plt.tight_layout()"
   ]
  },
  {
   "cell_type": "markdown",
   "metadata": {},
   "source": [
    "## Coordinates"
   ]
  },
  {
   "cell_type": "code",
   "execution_count": null,
   "metadata": {
    "tags": [
     "remove-input"
    ]
   },
   "outputs": [],
   "source": [
    "plt.figure(figsize=(6, 4))\n",
    "\n",
    "y = np.array([0.0, 0.0, 0.0, 1.0])\n",
    "show_surface(y)\n",
    "plt.xlim(-2, 2)\n",
    "\n",
    "xo, yo, zo = 0.9, 0.5, 10\n",
    "r = 0.2\n",
    "circle = plt.Circle((xo, yo), r, color=\"k\", zorder=10)\n",
    "plt.gca().add_artist(circle)\n",
    "color1 = \"k\"\n",
    "arrow_style = dict(\n",
    "    head_width=0.06, head_length=0.06, zorder=10, width=0.01, lw=0, color=color1\n",
    ")\n",
    "L = 1.1\n",
    "plt.plot(0, 0, \".\", c=arrow_style[\"color\"], ms=6)\n",
    "plt.arrow(0, -L, 0, 2 * L, **arrow_style)\n",
    "plt.arrow(-L, 0, 2 * L, 0, **arrow_style)\n",
    "plt.text(0.1, -0.2, \"$(0,0,0)$\", color=color1, fontsize=14)\n",
    "plt.text(L * 1.01, -0.2, \"$x$\", color=color1, fontsize=14)\n",
    "plt.text(-0.2, L * 1.01, \"$y$\", color=color1, fontsize=14)\n",
    "plt.text(-0.15, -0.15, \"$z$\", color=color1, fontsize=14)\n",
    "plt.text(\n",
    "    xo, yo + 1.5 * r, f\"$({xo},{yo},{zo})$\", color=color1, fontsize=14, ha=\"center\"\n",
    ")\n",
    "plt.text(-0.9, 0.8, \"$Y_{1,1}$\", fontsize=18, ha=\"center\", color=color1)\n",
    "plt.tight_layout()"
   ]
  },
  {
   "cell_type": "code",
   "execution_count": null,
   "metadata": {},
   "outputs": [],
   "source": []
  }
 ],
 "metadata": {
  "kernelspec": {
   "display_name": ".venv",
   "language": "python",
   "name": "python3"
  },
  "language_info": {
   "codemirror_mode": {
    "name": "ipython",
    "version": 3
   },
   "file_extension": ".py",
   "mimetype": "text/x-python",
   "name": "python",
   "nbconvert_exporter": "python",
   "pygments_lexer": "ipython3",
   "version": "3.11.11"
  }
 },
 "nbformat": 4,
 "nbformat_minor": 2
}
